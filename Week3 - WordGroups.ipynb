{
 "cells": [
  {
   "cell_type": "code",
   "execution_count": 1,
   "metadata": {},
   "outputs": [
    {
     "name": "stdout",
     "output_type": "stream",
     "text": [
      "Overwriting mapper.py\n"
     ]
    }
   ],
   "source": [
    "%%writefile mapper.py\n",
    "\n",
    "import sys\n",
    "import re\n",
    "\n",
    "reload(sys)\n",
    "sys.setdefaultencoding('utf-8') # required to convert to unicode\n",
    "\n",
    "with open('stop_words_en.txt') as f:\n",
    "    stop_words = set(f.read().split())\n",
    "\n",
    "for line in sys.stdin:\n",
    "    try:\n",
    "        article_id, text = unicode(line.strip()).split('\\t', 1)\n",
    "    except ValueError as e:\n",
    "        continue\n",
    "    words = re.split(\"\\W*\\s+\\W*\", text, flags=re.UNICODE)\n",
    "    for word in words:\n",
    "        word = word.lower()\n",
    "        if word in stop_words:\n",
    "            continue\n",
    "        word_sorted = ''.join(sorted(word))\n",
    "        print \"%s\\t%d\\t%s\" % (word_sorted, 1, word)"
   ]
  },
  {
   "cell_type": "code",
   "execution_count": 2,
   "metadata": {},
   "outputs": [
    {
     "name": "stdout",
     "output_type": "stream",
     "text": [
      "Overwriting reducer.py\n"
     ]
    }
   ],
   "source": [
    "%%writefile reducer.py\n",
    "\n",
    "import sys\n",
    "import re\n",
    "\n",
    "reload(sys)\n",
    "sys.setdefaultencoding('utf-8') # required to convert to unicode\n",
    "\n",
    "current_key = None\n",
    "current_cnt = 0\n",
    "words_set = set()\n",
    "\n",
    "for line in sys.stdin:\n",
    "    try:\n",
    "        key, cnt, word = unicode(line.strip()).split('\\t')\n",
    "        cnt = int(cnt)\n",
    "    except ValueError as e:\n",
    "        continue\n",
    "    \n",
    "    if current_key != key:\n",
    "        if current_key and (len(words_set) > 1):\n",
    "            print \"%d\\t%d\\t%s\" % (current_cnt, len(words_set), ','.join(sorted(words_set)))\n",
    "        current_key = key\n",
    "        words_set = set()\n",
    "        words_set.add(word)\n",
    "        current_cnt = cnt\n",
    "    else:\n",
    "        words_set.add(word)\n",
    "        current_cnt += cnt\n",
    "        \n",
    "print \"%d\\t%d\\t%s\" % (current_cnt, len(words_set), ','.join(sorted(words_set)))"
   ]
  },
  {
   "cell_type": "code",
   "execution_count": 3,
   "metadata": {},
   "outputs": [
    {
     "name": "stdout",
     "output_type": "stream",
     "text": [
      "7820\t5\tenglish,helsing,hesling,shengli,shingle\n"
     ]
    },
    {
     "name": "stderr",
     "output_type": "stream",
     "text": [
      "rm: `word_groups': No such file or directory\n",
      "19/01/04 21:21:14 INFO client.RMProxy: Connecting to ResourceManager at /0.0.0.0:8032\n",
      "19/01/04 21:21:14 INFO client.RMProxy: Connecting to ResourceManager at /0.0.0.0:8032\n",
      "19/01/04 21:21:15 INFO mapred.FileInputFormat: Total input files to process : 1\n",
      "19/01/04 21:21:15 INFO mapreduce.JobSubmitter: number of splits:2\n",
      "19/01/04 21:21:15 INFO mapreduce.JobSubmitter: Submitting tokens for job: job_1546618219059_0005\n",
      "19/01/04 21:21:15 INFO impl.YarnClientImpl: Submitted application application_1546618219059_0005\n",
      "19/01/04 21:21:15 INFO mapreduce.Job: The url to track the job: http://ed50d717c752:8088/proxy/application_1546618219059_0005/\n",
      "19/01/04 21:21:15 INFO mapreduce.Job: Running job: job_1546618219059_0005\n",
      "19/01/04 21:21:22 INFO mapreduce.Job: Job job_1546618219059_0005 running in uber mode : false\n",
      "19/01/04 21:21:22 INFO mapreduce.Job:  map 0% reduce 0%\n",
      "19/01/04 21:21:38 INFO mapreduce.Job:  map 13% reduce 0%\n",
      "19/01/04 21:21:39 INFO mapreduce.Job:  map 38% reduce 0%\n",
      "19/01/04 21:21:44 INFO mapreduce.Job:  map 49% reduce 0%\n",
      "19/01/04 21:21:45 INFO mapreduce.Job:  map 56% reduce 0%\n",
      "19/01/04 21:21:50 INFO mapreduce.Job:  map 66% reduce 0%\n",
      "19/01/04 21:21:51 INFO mapreduce.Job:  map 81% reduce 0%\n",
      "19/01/04 21:21:52 INFO mapreduce.Job:  map 83% reduce 0%\n",
      "19/01/04 21:21:54 INFO mapreduce.Job:  map 100% reduce 0%\n",
      "19/01/04 21:22:00 INFO mapreduce.Job:  map 100% reduce 13%\n",
      "19/01/04 21:22:02 INFO mapreduce.Job:  map 100% reduce 25%\n",
      "19/01/04 21:22:03 INFO mapreduce.Job:  map 100% reduce 38%\n",
      "19/01/04 21:22:04 INFO mapreduce.Job:  map 100% reduce 50%\n",
      "19/01/04 21:22:05 INFO mapreduce.Job:  map 100% reduce 63%\n",
      "19/01/04 21:22:06 INFO mapreduce.Job:  map 100% reduce 75%\n",
      "19/01/04 21:22:07 INFO mapreduce.Job:  map 100% reduce 88%\n",
      "19/01/04 21:22:09 INFO mapreduce.Job:  map 100% reduce 100%\n",
      "19/01/04 21:22:09 INFO mapreduce.Job: Job job_1546618219059_0005 completed successfully\n",
      "19/01/04 21:22:09 INFO mapreduce.Job: Counters: 50\n",
      "\tFile System Counters\n",
      "\t\tFILE: Number of bytes read=272514475\n",
      "\t\tFILE: Number of bytes written=410076142\n",
      "\t\tFILE: Number of read operations=0\n",
      "\t\tFILE: Number of large read operations=0\n",
      "\t\tFILE: Number of write operations=0\n",
      "\t\tHDFS: Number of bytes read=76874501\n",
      "\t\tHDFS: Number of bytes written=772703\n",
      "\t\tHDFS: Number of read operations=30\n",
      "\t\tHDFS: Number of large read operations=0\n",
      "\t\tHDFS: Number of write operations=16\n",
      "\tJob Counters \n",
      "\t\tKilled reduce tasks=1\n",
      "\t\tLaunched map tasks=2\n",
      "\t\tLaunched reduce tasks=8\n",
      "\t\tData-local map tasks=2\n",
      "\t\tTotal time spent by all maps in occupied slots (ms)=56605\n",
      "\t\tTotal time spent by all reduces in occupied slots (ms)=49744\n",
      "\t\tTotal time spent by all map tasks (ms)=56605\n",
      "\t\tTotal time spent by all reduce tasks (ms)=49744\n",
      "\t\tTotal vcore-milliseconds taken by all map tasks=56605\n",
      "\t\tTotal vcore-milliseconds taken by all reduce tasks=49744\n",
      "\t\tTotal megabyte-milliseconds taken by all map tasks=57963520\n",
      "\t\tTotal megabyte-milliseconds taken by all reduce tasks=50937856\n",
      "\tMap-Reduce Framework\n",
      "\t\tMap input records=4100\n",
      "\t\tMap output records=6971114\n",
      "\t\tMap output bytes=122283220\n",
      "\t\tMap output materialized bytes=136225566\n",
      "\t\tInput split bytes=228\n",
      "\t\tCombine input records=0\n",
      "\t\tCombine output records=0\n",
      "\t\tReduce input groups=370340\n",
      "\t\tReduce shuffle bytes=136225566\n",
      "\t\tReduce input records=6971114\n",
      "\t\tReduce output records=32580\n",
      "\t\tSpilled Records=20913342\n",
      "\t\tShuffled Maps =16\n",
      "\t\tFailed Shuffles=0\n",
      "\t\tMerged Map outputs=16\n",
      "\t\tGC time elapsed (ms)=974\n",
      "\t\tCPU time spent (ms)=98670\n",
      "\t\tPhysical memory (bytes) snapshot=2280448000\n",
      "\t\tVirtual memory (bytes) snapshot=20204007424\n",
      "\t\tTotal committed heap usage (bytes)=1563951104\n",
      "\tShuffle Errors\n",
      "\t\tBAD_ID=0\n",
      "\t\tCONNECTION=0\n",
      "\t\tIO_ERROR=0\n",
      "\t\tWRONG_LENGTH=0\n",
      "\t\tWRONG_MAP=0\n",
      "\t\tWRONG_REDUCE=0\n",
      "\tFile Input Format Counters \n",
      "\t\tBytes Read=76874273\n",
      "\tFile Output Format Counters \n",
      "\t\tBytes Written=772703\n",
      "19/01/04 21:22:09 INFO streaming.StreamJob: Output directory: word_groups\n"
     ]
    }
   ],
   "source": [
    "%%bash\n",
    "\n",
    "OUT_DIR=\"word_groups\"\n",
    "NUM_REDUCERS=8\n",
    "\n",
    "hdfs dfs -rm -r -skipTrash ${OUT_DIR} > /dev/null\n",
    "\n",
    "yarn jar /opt/cloudera/parcels/CDH/lib/hadoop-mapreduce/hadoop-streaming.jar \\\n",
    "    -D mapred.jab.name=\"Streaming word groups\" \\\n",
    "    -D mapreduce.job.reduces=${NUM_REDUCERS} \\\n",
    "    -files mapper.py,reducer.py,/datasets/stop_words_en.txt \\\n",
    "    -mapper \"python mapper.py\" \\\n",
    "    -reducer \"python reducer.py\" \\\n",
    "    -input /data/wiki/en_articles_part \\\n",
    "    -output ${OUT_DIR} > /dev/null\n",
    "    \n",
    "hdfs dfs -cat word_groups/* | grep -P '(,|\\t)english($|,)'"
   ]
  },
  {
   "cell_type": "code",
   "execution_count": null,
   "metadata": {},
   "outputs": [],
   "source": []
  }
 ],
 "metadata": {
  "kernelspec": {
   "display_name": "Python 2",
   "language": "python",
   "name": "python2"
  },
  "language_info": {
   "codemirror_mode": {
    "name": "ipython",
    "version": 2
   },
   "file_extension": ".py",
   "mimetype": "text/x-python",
   "name": "python",
   "nbconvert_exporter": "python",
   "pygments_lexer": "ipython2",
   "version": "2.7.12"
  }
 },
 "nbformat": 4,
 "nbformat_minor": 2
}
