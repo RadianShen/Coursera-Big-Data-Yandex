{
 "cells": [
  {
   "cell_type": "code",
   "execution_count": 1,
   "metadata": {},
   "outputs": [],
   "source": [
    "from __future__ import print_function\n",
    "import copy"
   ]
  },
  {
   "cell_type": "code",
   "execution_count": 2,
   "metadata": {},
   "outputs": [],
   "source": [
    "from pyspark import SparkConf, SparkContext\n",
    "sc = SparkContext(conf=SparkConf().setAppName(\"MyApp\").setMaster(\"local\"))"
   ]
  },
  {
   "cell_type": "code",
   "execution_count": 3,
   "metadata": {},
   "outputs": [],
   "source": [
    "def parse_edge(s):\n",
    "    user, follower = s.split(\"\\t\")\n",
    "    return (int(user), int(follower))\n",
    "\n",
    "def step(item):\n",
    "    prev_v, prev_d, next_v = item[0], item[1][0], item[1][1]\n",
    "    next_d = copy.copy(prev_d)\n",
    "    next_d.append(prev_v)\n",
    "    return (next_v, next_d)\n",
    "\n",
    "def complete(item):\n",
    "  v, old_d, new_d = item[0], item[1][0], item[1][1]\n",
    "  return (v, old_d if old_d is not None else new_d)"
   ]
  },
  {
   "cell_type": "code",
   "execution_count": null,
   "metadata": {},
   "outputs": [],
   "source": [
    "\n",
    "n = 4  # number of partitions\n",
    "edges = sc.textFile(\"/data/twitter/twitter_sample_small.txt\").map(parse_edge).cache()\n",
    "#edges = sc.textFile(\"/data/twitter/twitter_sample.txt\").map(parse_edge).cache()\n",
    "forward_edges = edges.map(lambda e: (e[1], e[0])).partitionBy(n).persist()\n",
    "x = 12 # start node\n",
    "t = 34 # end node\n",
    "d = 0\n",
    "distances = sc.parallelize([(x, [])]).partitionBy(n)\n",
    "shortest_path = []\n",
    "\n",
    "while True:\n",
    "    # we keep candidates aside, so we can reduce the forward edges set later\n",
    "    candidates_join = distances.join(forward_edges, n).persist()\n",
    "    candidates = candidates_join.map(step)\n",
    "    new_distances = distances.fullOuterJoin(candidates, n).map(complete, True).persist()\n",
    "    # did we hit target ?\n",
    "    targets = new_distances.filter(lambda i: i[0] == t)\n",
    "    if targets.count() > 0:\n",
    "        # if yes, return the first match\n",
    "        collected_targets = targets.collect()\n",
    "        shortest_path = collected_targets[0][1]\n",
    "        break;\n",
    "    # Else counting new nodes discovered... This is useless here, as we shall\n",
    "    # find the target. It helps stopping the computation if we have something wrong,\n",
    "    # anyway\n",
    "    new_distances = new_distances.filter(lambda i: len(i[1]) == d + 1).persist()\n",
    "    count = new_distances.count()\n",
    "    if count > 0:\n",
    "        d += 1\n",
    "        distances = new_distances\n",
    "        # reducing the forward edges set\n",
    "        forward_edges = forward_edges.subtractByKey(candidates_join).persist()\n",
    "    else:\n",
    "        break"
   ]
  },
  {
   "cell_type": "code",
   "execution_count": null,
   "metadata": {},
   "outputs": [
    {
     "name": "stdout",
     "output_type": "stream",
     "text": [
      "12,422,53,52,107,20,23,274,34\n"
     ]
    }
   ],
   "source": [
    "for node in shortest_path:\n",
    "        print(node,end='')\n",
    "        print(',',end='')\n",
    "print(t)"
   ]
  },
  {
   "cell_type": "code",
   "execution_count": null,
   "metadata": {},
   "outputs": [],
   "source": []
  }
 ],
 "metadata": {
  "kernelspec": {
   "display_name": "Python 3",
   "language": "python",
   "name": "python3"
  },
  "language_info": {
   "codemirror_mode": {
    "name": "ipython",
    "version": 3
   },
   "file_extension": ".py",
   "mimetype": "text/x-python",
   "name": "python",
   "nbconvert_exporter": "python",
   "pygments_lexer": "ipython3",
   "version": "3.6.2"
  }
 },
 "nbformat": 4,
 "nbformat_minor": 2
}
